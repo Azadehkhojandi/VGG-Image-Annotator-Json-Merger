{
 "cells": [
  {
   "cell_type": "code",
   "execution_count": 1,
   "metadata": {},
   "outputs": [
    {
     "name": "stdout",
     "output_type": "stream",
     "text": [
      "Requirement already satisfied: jsonmerge in c:\\users\\azadeh khojandi\\appdata\\local\\conda\\conda\\envs\\py35\\lib\\site-packages (1.5.1)\n",
      "Requirement already satisfied: jsonschema in c:\\users\\azadeh khojandi\\appdata\\local\\conda\\conda\\envs\\py35\\lib\\site-packages (from jsonmerge) (2.6.0)\n"
     ]
    }
   ],
   "source": [
    "import sys\n",
    "! \"{sys.executable}\" -m pip install jsonmerge"
   ]
  },
  {
   "cell_type": "code",
   "execution_count": 2,
   "metadata": {},
   "outputs": [],
   "source": [
    "from jsonmerge import merge\n",
    "import json\n",
    "import os\n",
    "import glob \n",
    "import shutil"
   ]
  },
  {
   "cell_type": "code",
   "execution_count": 3,
   "metadata": {},
   "outputs": [],
   "source": [
    "def loadjsonfile(filepath):\n",
    "    #Read JSON data into the datastore variable\n",
    "    if filepath:\n",
    "        with open(filepath, 'r') as f:\n",
    "            datastore = json.load(f)\n",
    "            return datastore\n"
   ]
  },
  {
   "cell_type": "code",
   "execution_count": 4,
   "metadata": {},
   "outputs": [],
   "source": [
    "def mergeTags(inputpath,outputpath):\n",
    "    \n",
    "    result=None;\n",
    "    for filename in glob.iglob(os.path.join(inputpath,'**/via_region_data.json'), recursive=True):\n",
    "        \n",
    "        jsonfile=loadjsonfile(filename)\n",
    "        if(result==None):\n",
    "            result=jsonfile\n",
    "        else:\n",
    "            result=merge(result, jsonfile)\n",
    "        print(\"josn items after mergeing %s : %d\" %(filename, len(result.keys())))\n",
    "\n",
    "    \n",
    "    if not os.path.exists(outputpath):\n",
    "        os.makedirs(outputpath)\n",
    "    with open(os.path.join(outputpath,'via_region_data.json'), 'w') as outfile:\n",
    "        json.dump(result, outfile)\n",
    "\n",
    "\n"
   ]
  },
  {
   "cell_type": "code",
   "execution_count": 7,
   "metadata": {},
   "outputs": [],
   "source": [
    "def aggregateImages(inputpath,outputpath):\n",
    "    if not os.path.exists(outputpath):\n",
    "        os.makedirs(outputpath)\n",
    "    for filename in glob.iglob(os.path.join(inputpath,'**/*.jpg'), recursive=True):\n",
    "        print('copying %s to %s' % (filename,outputpath))\n",
    "        shutil.copy2(filename, outputpath)"
   ]
  },
  {
   "cell_type": "markdown",
   "metadata": {},
   "source": [
    "## How it works\n"
   ]
  },
  {
   "cell_type": "code",
   "execution_count": 8,
   "metadata": {},
   "outputs": [
    {
     "name": "stdout",
     "output_type": "stream",
     "text": [
      "josn items after mergeing ./cookie\\family photos\\via_region_data.json : 5\n",
      "josn items after mergeing ./cookie\\portraits\\via_region_data.json : 14\n",
      "copying ./cookie\\family photos\\17126777_2250379738519497_2363976168954134528_n.jpg to ./aggregated/\n",
      "copying ./cookie\\family photos\\19379975_105738776719516_1417436720617488384_n.jpg to ./aggregated/\n",
      "copying ./cookie\\family photos\\20582377_1603391439693411_8320324329300557824_n.jpg to ./aggregated/\n",
      "copying ./cookie\\family photos\\25024874_131592160963730_6583371887588409344_n.jpg to ./aggregated/\n",
      "copying ./cookie\\family photos\\25025460_661089257614362_8943236759227990016_n.jpg to ./aggregated/\n",
      "copying ./cookie\\portraits\\17494172_1273531499400839_8009411608088412160_n.jpg to ./aggregated/\n",
      "copying ./cookie\\portraits\\18252161_454524614895302_6893024598539894784_n.jpg to ./aggregated/\n",
      "copying ./cookie\\portraits\\19764641_824123264410662_5056292619068375040_n.jpg to ./aggregated/\n",
      "copying ./cookie\\portraits\\25014745_1918443881805653_1639581680526163968_n.jpg to ./aggregated/\n",
      "copying ./cookie\\portraits\\28433305_180966632691382_1234760650438213632_n.jpg to ./aggregated/\n",
      "copying ./cookie\\portraits\\29090222_1801346103495150_2471878847079907328_n.jpg to ./aggregated/\n",
      "copying ./cookie\\portraits\\29415002_2052068605033939_3077072153204490240_n.jpg to ./aggregated/\n",
      "copying ./cookie\\portraits\\32901975_238908013511120_2277503191497048064_n.jpg to ./aggregated/\n",
      "copying ./cookie\\portraits\\33721567_178527139479107_4034953295909879808_n.jpg to ./aggregated/\n"
     ]
    }
   ],
   "source": [
    "inputpath='./cookie'\n",
    "outputpath='./aggregated/'\n",
    "mergeTags(inputpath,outputpath)\n",
    "aggregateImages(inputpath,outputpath)"
   ]
  },
  {
   "cell_type": "code",
   "execution_count": null,
   "metadata": {},
   "outputs": [],
   "source": []
  }
 ],
 "metadata": {
  "kernelspec": {
   "display_name": "Python 3",
   "language": "python",
   "name": "python3"
  },
  "language_info": {
   "codemirror_mode": {
    "name": "ipython",
    "version": 3
   },
   "file_extension": ".py",
   "mimetype": "text/x-python",
   "name": "python",
   "nbconvert_exporter": "python",
   "pygments_lexer": "ipython3",
   "version": "3.5.4"
  }
 },
 "nbformat": 4,
 "nbformat_minor": 2
}
